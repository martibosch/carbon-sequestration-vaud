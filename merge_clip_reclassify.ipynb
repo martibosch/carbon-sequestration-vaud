{
 "cells": [
  {
   "cell_type": "code",
   "execution_count": 1,
   "metadata": {
    "autoscroll": false,
    "collapsed": false,
    "ein.hycell": false,
    "ein.tags": "worksheet-0",
    "slideshow": {
     "slide_type": "-"
    }
   },
   "outputs": [],
   "source": [
    "%load_ext autoreload\n",
    "%autoreload 2"
   ]
  },
  {
   "cell_type": "code",
   "execution_count": 2,
   "metadata": {
    "autoscroll": false,
    "collapsed": false,
    "ein.hycell": false,
    "ein.tags": "worksheet-0",
    "slideshow": {
     "slide_type": "-"
    }
   },
   "outputs": [],
   "source": [
    "import numpy as np\n",
    "import pandas as pd\n",
    "\n",
    "import swisslandstats as sls"
   ]
  },
  {
   "cell_type": "code",
   "execution_count": 3,
   "metadata": {
    "autoscroll": false,
    "collapsed": false,
    "ein.hycell": false,
    "ein.tags": "worksheet-0",
    "slideshow": {
     "slide_type": "-"
    }
   },
   "outputs": [],
   "source": [
    "lu_ldf = sls.read_csv('data/AREA_NOLU04_46_171129.csv')\n",
    "lc_ldf = sls.read_csv('data/AREA_NOLC04_27_171129.csv')"
   ]
  },
  {
   "cell_type": "markdown",
   "metadata": {
    "ein.tags": "worksheet-0",
    "slideshow": {
     "slide_type": "-"
    }
   },
   "source": [
    "## Merge the two data frames"
   ]
  },
  {
   "cell_type": "code",
   "execution_count": 4,
   "metadata": {
    "autoscroll": false,
    "collapsed": false,
    "ein.hycell": false,
    "ein.tags": "worksheet-0",
    "slideshow": {
     "slide_type": "-"
    }
   },
   "outputs": [],
   "source": [
    "lulc_ldf = sls.merge(lu_ldf, lc_ldf)"
   ]
  },
  {
   "cell_type": "markdown",
   "metadata": {
    "ein.tags": "worksheet-0",
    "slideshow": {
     "slide_type": "-"
    }
   },
   "source": [
    "## Clip it by the extent of the Vaud Canton"
   ]
  },
  {
   "cell_type": "code",
   "execution_count": 7,
   "metadata": {
    "autoscroll": false,
    "collapsed": false,
    "ein.hycell": false,
    "ein.tags": "worksheet-0",
    "slideshow": {
     "slide_type": "-"
    }
   },
   "outputs": [],
   "source": [
    "lulc_ldf = lulc_ldf.clip_by_nominatim('Vaud, Switzerland')"
   ]
  },
  {
   "cell_type": "markdown",
   "metadata": {
    "ein.tags": "worksheet-0",
    "slideshow": {
     "slide_type": "-"
    }
   },
   "source": [
    "## Reclassify it into 18 categories"
   ]
  },
  {
   "cell_type": "code",
   "execution_count": 12,
   "metadata": {
    "autoscroll": false,
    "collapsed": false,
    "ein.hycell": false,
    "ein.tags": "worksheet-0",
    "slideshow": {
     "slide_type": "-"
    }
   },
   "outputs": [],
   "source": [
    "# Delete the 'R' char from the 09 LU/LC columnns\n",
    "\n",
    "lulc_ldf.columns = lulc_ldf.columns.map(lambda column: column.replace('09R', '09'))"
   ]
  },
  {
   "cell_type": "code",
   "execution_count": 13,
   "metadata": {
    "autoscroll": false,
    "collapsed": false,
    "ein.hycell": false,
    "ein.tags": "worksheet-0",
    "slideshow": {
     "slide_type": "-"
    }
   },
   "outputs": [],
   "source": [
    "import json\n",
    "\n",
    "with open('data/lulc_reclassify_map.json', 'r') as fp:\n",
    "    lulc_reclassify_map = json.load(fp)"
   ]
  },
  {
   "cell_type": "code",
   "execution_count": 14,
   "metadata": {
    "autoscroll": false,
    "collapsed": false,
    "ein.hycell": false,
    "ein.tags": "worksheet-0",
    "slideshow": {
     "slide_type": "-"
    }
   },
   "outputs": [],
   "source": [
    "def lulc_reclassify(lulc_ldf, left_column, right_column, lulc_reclassify_map):\n",
    "    # int -1 vs. float np.nan\n",
    "    lulc_reclassify_ser = pd.Series(-1, lulc_ldf.index, dtype=int)\n",
    "    for left_values, right_values, new_value in lulc_reclassify_map:\n",
    "        left_values_df = lulc_ldf[lulc_ldf[left_column].isin(left_values)]\n",
    "        lulc_reclassify_ser.loc[\n",
    "            left_values_df[left_values_df[right_column].isin(right_values)].index\n",
    "        ] = new_value\n",
    "    return lulc_reclassify_ser"
   ]
  },
  {
   "cell_type": "code",
   "execution_count": 15,
   "metadata": {
    "autoscroll": false,
    "collapsed": false,
    "ein.hycell": false,
    "ein.tags": "worksheet-0",
    "slideshow": {
     "slide_type": "-"
    }
   },
   "outputs": [],
   "source": [
    "lu_columns = lulc_ldf.columns[\n",
    "    lulc_ldf.columns.str.startswith('LU') & lulc_ldf.columns.str.endswith('46')]\n",
    "lc_columns = lulc_ldf.columns[\n",
    "    lulc_ldf.columns.str.startswith('LC') & lulc_ldf.columns.str.endswith('27')]"
   ]
  },
  {
   "cell_type": "code",
   "execution_count": 16,
   "metadata": {
    "autoscroll": false,
    "collapsed": false,
    "ein.hycell": false,
    "ein.tags": "worksheet-0",
    "slideshow": {
     "slide_type": "-"
    }
   },
   "outputs": [],
   "source": [
    "for lu_column, lc_column in zip(lu_columns, lc_columns):\n",
    "    year_str = lu_column[2:4]\n",
    "    lulc_ldf['LULC%s_18' % year_str] = lulc_reclassify(\n",
    "        lulc_ldf, 'LC%s_27' % year_str, 'LU%s_46' % year_str, lulc_reclassify_map)"
   ]
  },
  {
   "cell_type": "code",
   "execution_count": 18,
   "metadata": {
    "autoscroll": false,
    "collapsed": false,
    "ein.hycell": false,
    "ein.tags": "worksheet-0",
    "slideshow": {
     "slide_type": "-"
    }
   },
   "outputs": [],
   "source": [
    "# Just keep the columns that we care about, and save resulting dataframe\n",
    "lulc_ldf[np.concatenate((\n",
    "    ['X', 'Y'],\n",
    "    lulc_ldf.columns[lulc_ldf.columns.str.startswith('FJ')],\n",
    "    lulc_ldf.columns[lulc_ldf.columns.str.startswith('LULC')]))].to_csv('data/vaud_lulc.csv')"
   ]
  }
 ],
 "metadata": {
  "kernelspec": {
   "display_name": "Python (carbonseq_vaud)",
   "name": "carbonseq_vaud"
  },
  "name": "merge_clip_reclassify.ipynb"
 },
 "nbformat": 4,
 "nbformat_minor": 2
}
