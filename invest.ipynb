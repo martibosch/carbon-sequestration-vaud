{
 "cells": [
  {
   "cell_type": "code",
   "execution_count": 1,
   "metadata": {
    "autoscroll": false,
    "collapsed": false,
    "ein.hycell": false,
    "ein.tags": "worksheet-0",
    "slideshow": {
     "slide_type": "-"
    }
   },
   "outputs": [],
   "source": [
    "import numpy as np\n",
    "import pandas as pd\n",
    "\n",
    "import swisslandstats as sls"
   ]
  },
  {
   "cell_type": "code",
   "execution_count": 2,
   "metadata": {
    "autoscroll": false,
    "collapsed": false,
    "ein.hycell": false,
    "ein.tags": "worksheet-0",
    "slideshow": {
     "slide_type": "-"
    }
   },
   "outputs": [],
   "source": [
    "vaud_ldf = sls.read_csv('data/vaud_ldf.csv')"
   ]
  },
  {
   "cell_type": "markdown",
   "metadata": {
    "ein.tags": "worksheet-0",
    "slideshow": {
     "slide_type": "-"
    }
   },
   "source": [
    "Reading multiindexed csv with blanks (see https://stackoverflow.com/questions/30322581/pandas-read-multiindexed-csv-with-blanks)"
   ]
  },
  {
   "cell_type": "code",
   "execution_count": 3,
   "metadata": {
    "autoscroll": false,
    "collapsed": false,
    "ein.hycell": false,
    "ein.tags": "worksheet-0",
    "slideshow": {
     "slide_type": "-"
    }
   },
   "outputs": [],
   "source": [
    "# TODO: fix ugly hardcoded names\n",
    "\n",
    "def correct_columns_from_csv(df):\n",
    "    columns = pd.DataFrame(df.columns.tolist())\n",
    "    columns.loc[columns[0].str.startswith('Unnamed'), 0] = np.nan\n",
    "    columns[0] = columns[0].fillna(method='ffill')\n",
    "    mask = pd.isnull(columns[0])\n",
    "    columns[0] = columns[0].fillna('')\n",
    "    columns.loc[mask, [0,1]] = columns.loc[mask, [1,0]].values\n",
    "    df_idx = pd.MultiIndex.from_tuples(columns.to_records(index=False).tolist(), names=['stock', 'year'])\n",
    "    df_idx = df_idx.set_levels(df_idx.levels[1].astype(int), level='year')\n",
    "    return df_idx\n",
    "\n",
    "def correct_index_from_csv(df):\n",
    "    index = pd.DataFrame(df.index.tolist())\n",
    "    index[0] = index[0].fillna(method='ffill')\n",
    "    df.index = pd.MultiIndex.from_tuples(index.to_records(index=False).tolist(), names=['LULC', 'prodreg', 'elevation'])\n",
    "\n",
    "    # index lulc as int\n",
    "    df.index = df.index.set_levels(df.index.levels[0].astype(int), level='LULC')\n",
    "    \n",
    "    # if map_prodreg:\n",
    "    #     # index prodreg names instead of numbers\n",
    "    #     prodreg_name_map = {1: 'Jura', 2: 'Central Plateau', 3: 'Pre Alps', 4: 'Alps', 5: 'Southern Alps'}\n",
    "    #     df.index = df.index.set_levels(df.index.levels[1].map(lambda x: prodreg_name_map[x]), level='prodreg')\n",
    "    \n",
    "    return df.index"
   ]
  },
  {
   "cell_type": "code",
   "execution_count": 4,
   "metadata": {
    "autoscroll": false,
    "collapsed": false,
    "ein.hycell": false,
    "ein.tags": "worksheet-0",
    "slideshow": {
     "slide_type": "-"
    }
   },
   "outputs": [],
   "source": [
    "variable_coeff_df = pd.read_csv('data/variable_coeffs.csv', header=[0,1], index_col=[0,1,2])\n",
    "\n",
    "variable_coeff_df.columns = correct_columns_from_csv(variable_coeff_df)\n",
    "variable_coeff_df.index = correct_index_from_csv(variable_coeff_df)\n",
    "\n",
    "variable_coeff_df = variable_coeff_df.unstack(0).stack(1)"
   ]
  },
  {
   "cell_type": "code",
   "execution_count": 5,
   "metadata": {
    "autoscroll": false,
    "collapsed": false,
    "ein.hycell": false,
    "ein.tags": "worksheet-0",
    "slideshow": {
     "slide_type": "-"
    }
   },
   "outputs": [],
   "source": [
    "constant_coeff_df = pd.read_csv('data/constant_coeffs.csv', header=0, index_col=[0,1,2])\n",
    "\n",
    "constant_coeff_df.index = correct_index_from_csv(constant_coeff_df)\n",
    "constant_coeff_df = constant_coeff_df.unstack(0)"
   ]
  },
  {
   "cell_type": "markdown",
   "metadata": {
    "ein.tags": "worksheet-0",
    "slideshow": {
     "slide_type": "-"
    }
   },
   "source": [
    "## Get yearly coefficient tables"
   ]
  },
  {
   "cell_type": "code",
   "execution_count": 6,
   "metadata": {
    "autoscroll": false,
    "collapsed": false,
    "ein.hycell": false,
    "ein.tags": "worksheet-0",
    "slideshow": {
     "slide_type": "-"
    }
   },
   "outputs": [],
   "source": [
    "# TODO: DRY the stratification strategy with Python iterators\n",
    "\n",
    "def get_stratum_ser(ldf, lulc_column, year_column):\n",
    "    stratum_ser = pd.Series(0, index=ldf.index, name='stratum')\n",
    "    for (prodreg, elev, orgsoil, lulc, year), stratum_df in ldf.groupby(\n",
    "            ['prodreg', 'elevation', 'orgsoil', lulc_column, year_column]):\n",
    "        stratum_code = int(str(prodreg) + str(elev) + str(orgsoil) + str(lulc))\n",
    "        stratum_ser.loc[stratum_df.index] = stratum_code\n",
    "\n",
    "    return stratum_ser\n",
    "    \n",
    "def get_coeff_df(ldf, lulc_column, year_column, variable_coeff_df, constant_coeff_df):\n",
    "    \n",
    "    variable_lulc_columns = list(variable_coeff_df.columns.levels[1])\n",
    "    constant_lulc_columns = list(constant_coeff_df.columns.levels[1])\n",
    "\n",
    "    indep_stock_columns = list(variable_coeff_df.columns.levels[0][:3])    \n",
    "\n",
    "    coeff_df = pd.DataFrame(columns=indep_stock_columns + ['C_soil'])\n",
    "    \n",
    "    for (prodreg, elev, orgsoil, lulc, year), stratum_df in ldf.groupby(\n",
    "            ['prodreg', 'elevation', 'orgsoil', lulc_column, year_column]):\n",
    "        stratum_lulc_code = int(str(prodreg) + str(elev) + str(orgsoil) + str(lulc))\n",
    "        # ldf.loc[stratum_df.index, stratum_lulc_col] = stratum_lulc_code\n",
    "        if lulc in variable_lulc_columns:\n",
    "            coeff_row = variable_coeff_df.loc[(prodreg, elev, year)]\n",
    "        else:\n",
    "            coeff_row = constant_coeff_df.loc[(prodreg, elev)]\n",
    "        for stock_col in indep_stock_columns:\n",
    "            coeff_df.loc[stratum_lulc_code, stock_col] = coeff_row[(stock_col, lulc)]\n",
    "        if orgsoil == 0:\n",
    "            coeff_df.loc[stratum_lulc_code, 'C_soil'] = coeff_row[('C_mineral_soil', lulc)]\n",
    "        else:\n",
    "            coeff_df.loc[stratum_lulc_code, 'C_soil'] = coeff_row[('C_organic_soil', lulc)]\n",
    "    \n",
    "    return coeff_df"
   ]
  },
  {
   "cell_type": "markdown",
   "metadata": {
    "ein.tags": "worksheet-0",
    "slideshow": {
     "slide_type": "-"
    }
   },
   "source": [
    "## Enter Invest"
   ]
  },
  {
   "cell_type": "code",
   "execution_count": 7,
   "metadata": {
    "autoscroll": false,
    "collapsed": false,
    "ein.hycell": false,
    "ein.tags": "worksheet-0",
    "slideshow": {
     "slide_type": "-"
    }
   },
   "outputs": [],
   "source": [
    "from natcap.invest import carbon"
   ]
  },
  {
   "cell_type": "code",
   "execution_count": 8,
   "metadata": {
    "autoscroll": false,
    "collapsed": false,
    "ein.hycell": false,
    "ein.tags": "worksheet-0",
    "slideshow": {
     "slide_type": "-"
    }
   },
   "outputs": [],
   "source": [
    "import os\n",
    "\n",
    "workspace_dir = 'invest_carbon_output'\n",
    "if not os.path.exists(workspace_dir):\n",
    "    os.makedirs(workspace_dir)"
   ]
  },
  {
   "cell_type": "code",
   "execution_count": 9,
   "metadata": {
    "autoscroll": false,
    "collapsed": false,
    "ein.hycell": false,
    "ein.tags": "worksheet-0",
    "slideshow": {
     "slide_type": "-"
    }
   },
   "outputs": [],
   "source": [
    "import rasterio"
   ]
  },
  {
   "cell_type": "code",
   "execution_count": 10,
   "metadata": {
    "autoscroll": false,
    "collapsed": false,
    "ein.hycell": false,
    "ein.tags": "worksheet-0",
    "slideshow": {
     "slide_type": "-"
    }
   },
   "outputs": [],
   "source": [
    "# Map to Invest names\n",
    "\n",
    "stock_map = {'C_dead_wood': 'C_dead', 'C_litter': 'C_below', 'C_living_biomass': 'C_above', 'C_soil': 'C_soil'}"
   ]
  },
  {
   "cell_type": "code",
   "execution_count": 19,
   "metadata": {
    "autoscroll": false,
    "collapsed": false,
    "ein.hycell": false,
    "ein.tags": "worksheet-0",
    "slideshow": {
     "slide_type": "-"
    }
   },
   "outputs": [],
   "source": [
    "# ACHTUNG: ensure that the column order is consistent for lulc and year columns\n",
    "lulc_columns = vaud_ldf.columns[vaud_ldf.columns.str.startswith('LULC')]\n",
    "year_columns = vaud_ldf.columns[vaud_ldf.columns.str.startswith('FJ')]\n",
    "\n",
    "for lulc_column, year_column in zip(lulc_columns, year_columns):\n",
    "    # Map the strata to their corresponding pixels\n",
    "    stratum_lulc_column = 'STRAT_' + lulc_column\n",
    "    vaud_ldf[stratum_lulc_column] = get_stratum_ser(vaud_ldf, lulc_column, year_column)\n",
    "\n",
    "    # Export GeoTiff of the LULC strata\n",
    "    lulc_cur_path = os.path.join(workspace_dir, lulc_column + '_input.tif')\n",
    "    vaud_ldf.to_geotiff(lulc_cur_path, stratum_lulc_column, dtype=rasterio.uint32)\n",
    "\n",
    "    # Get stratified coefficients (with columns mapped to invest names)\n",
    "    coeff_df = get_coeff_df(vaud_ldf, lulc_column, year_column, variable_coeff_df, constant_coeff_df)\n",
    "    coeff_df.columns = coeff_df.columns.map(lambda col: stock_map[col])\n",
    "    # lulc code column must be named lucode (for the invest carbon model)\n",
    "    coeff_df.index = coeff_df.index.set_names('lucode')\n",
    "    # export it to csv\n",
    "    carbon_pools_path = os.path.join(workspace_dir, 'coeffs_' + lulc_column)\n",
    "    coeff_df.to_csv(carbon_pools_path)\n",
    "\n",
    "\n",
    "    args = {'workspace_dir': workspace_dir, 'results_suffix': lulc_column, 'lulc_cur_path': lulc_cur_path, 'carbon_pools_path': carbon_pools_path}\n",
    "    carbon.execute(args)"
   ]
  },
  {
   "cell_type": "markdown",
   "metadata": {
    "ein.tags": "worksheet-0",
    "slideshow": {
     "slide_type": "-"
    }
   },
   "source": [
    "## Postprocessing"
   ]
  },
  {
   "cell_type": "code",
   "execution_count": 13,
   "metadata": {
    "autoscroll": false,
    "collapsed": false,
    "ein.hycell": false,
    "ein.tags": "worksheet-0",
    "slideshow": {
     "slide_type": "-"
    }
   },
   "outputs": [],
   "source": [
    "import glob"
   ]
  },
  {
   "cell_type": "code",
   "execution_count": 27,
   "metadata": {
    "autoscroll": false,
    "collapsed": false,
    "ein.hycell": false,
    "ein.tags": "worksheet-0",
    "slideshow": {
     "slide_type": "-"
    }
   },
   "outputs": [
    {
     "name": "stdout",
     "output_type": "stream",
     "text": [
      "32715770.0\n",
      "32942260.0\n",
      "33674450.0\n",
      "34080136.0\n"
     ]
    }
   ],
   "source": [
    "# fig, axes = plt.subplots(len(lulc_columns), 1, figsize=(6, 6* len(lulc_columns)))\n",
    "for lulc_column in lulc_columns:\n",
    "    invest_output_fp = glob.glob(os.path.join(workspace_dir, '*' + lulc_column + '.tif'))[0]\n",
    "    with rasterio.open(invest_output_fp, 'r') as src:\n",
    "        arr = src.read(1)\n",
    "    # ax.imshow(arr)\n",
    "    print(np.nansum(arr))"
   ]
  }
 ],
 "metadata": {
  "kernelspec": {
   "display_name": "Python (carbonseq_vaud)",
   "name": "carbonseq_vaud"
  },
  "name": "invest.ipynb"
 },
 "nbformat": 4,
 "nbformat_minor": 2
}
