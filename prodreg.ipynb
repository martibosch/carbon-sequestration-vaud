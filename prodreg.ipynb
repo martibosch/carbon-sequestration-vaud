{
 "cells": [
  {
   "cell_type": "code",
   "execution_count": 1,
   "metadata": {
    "autoscroll": false,
    "collapsed": false,
    "ein.hycell": false,
    "ein.tags": "worksheet-0",
    "slideshow": {
     "slide_type": "-"
    }
   },
   "outputs": [],
   "source": [
    "import geopandas as gpd\n",
    "import pandas as pd\n",
    "\n",
    "import swisslandstats as sls"
   ]
  },
  {
   "cell_type": "code",
   "execution_count": 2,
   "metadata": {
    "autoscroll": false,
    "collapsed": false,
    "ein.hycell": false,
    "ein.tags": "worksheet-0",
    "slideshow": {
     "slide_type": "-"
    }
   },
   "outputs": [],
   "source": [
    "vaud_ldf = sls.read_csv('data/vaud_lulc.csv')"
   ]
  },
  {
   "cell_type": "code",
   "execution_count": 3,
   "metadata": {
    "autoscroll": false,
    "collapsed": false,
    "ein.hycell": false,
    "ein.tags": "worksheet-0",
    "slideshow": {
     "slide_type": "-"
    }
   },
   "outputs": [
    {
     "name": "stdout",
     "output_type": "stream",
     "text": [
      "I am densified (external_values, 13 elements)\n"
     ]
    }
   ],
   "source": [
    "prodreg_gdf = gpd.read_file('data/lfi_prodreg_19082011.shp')\n",
    "prodreg_gdf = prodreg_gdf.to_crs(vaud_ldf.crs)\n",
    "prodreg_gdf = prodreg_gdf[prodreg_gdf['PRODREG'] != 0] # Drop the 0\n",
    "prodreg_name_map = {1: 'Jura', 2: 'Central Plateau', 3: 'Pre Alps', 4: 'Alps', 5: 'Southern Alps'}\n",
    "prodreg_gdf['PRODREG'] = prodreg_gdf['PRODREG'].replace(prodreg_name_map)"
   ]
  },
  {
   "cell_type": "code",
   "execution_count": 4,
   "metadata": {
    "autoscroll": false,
    "collapsed": false,
    "ein.hycell": false,
    "ein.tags": "worksheet-0",
    "slideshow": {
     "slide_type": "-"
    }
   },
   "outputs": [],
   "source": [
    "vaud_gdf = vaud_ldf.to_geodataframe()\n",
    "\n",
    "prodreg_ser = gpd.sjoin(prodreg_gdf, vaud_gdf, how='right', op='contains')['PRODREG'] # .fillna(method='ffill')"
   ]
  },
  {
   "cell_type": "code",
   "execution_count": 5,
   "metadata": {
    "autoscroll": false,
    "collapsed": false,
    "ein.hycell": false,
    "ein.tags": "worksheet-0",
    "slideshow": {
     "slide_type": "-"
    }
   },
   "outputs": [
    {
     "name": "stdout",
     "output_type": "stream",
     "text": [
      "I am densified (external_values, 37 elements)\n"
     ]
    }
   ],
   "source": [
    "# Add a buffer for points that lay outside the border due to shp resolution\n",
    "\n",
    "nan_prodreg_gser = vaud_gdf.loc[prodreg_ser.isna()]['geometry']\n",
    "nan_prodreg_buffer_gdf = gpd.GeoDataFrame(geometry=nan_prodreg_gser.apply(lambda x: x.buffer(1500, cap_style=3)), index=nan_prodreg_gser.index, crs=vaud_ldf.crs)\n",
    "fillna_prodreg_ser = gpd.sjoin(nan_prodreg_buffer_gdf, prodreg_gdf, op='intersects')['PRODREG']"
   ]
  },
  {
   "cell_type": "code",
   "execution_count": 6,
   "metadata": {
    "autoscroll": false,
    "collapsed": false,
    "ein.hycell": false,
    "ein.tags": "worksheet-0",
    "slideshow": {
     "slide_type": "-"
    }
   },
   "outputs": [],
   "source": [
    "dup_fillna_prodreg_ser = fillna_prodreg_ser[fillna_prodreg_ser.index.duplicated(keep=False)] # Mark all duplicates as True\n",
    "non_dup_fillna_prodreg_ser = fillna_prodreg_ser[~fillna_prodreg_ser.index.isin(dup_fillna_prodreg_ser.index)] # non duplicated, succesfully (uniquely) solved through the buffer"
   ]
  },
  {
   "cell_type": "code",
   "execution_count": 7,
   "metadata": {
    "autoscroll": false,
    "collapsed": false,
    "ein.hycell": false,
    "ein.tags": "worksheet-0",
    "slideshow": {
     "slide_type": "-"
    }
   },
   "outputs": [],
   "source": [
    "# Compute, for each duplicate index's series, the intersection area between the buffer and conflicting prodreg regions and return the prodreg region with maximum intersection area\n",
    "\n",
    "def get_idmax_buffer_intersection(dup_ser, nan_prodreg_buffer_gdf):\n",
    "    # The index of `dup_ser` will consist of duplicates ; just pick the first element (it really does not matter\n",
    "    poly_geom = nan_prodreg_buffer_gdf.loc[dup_ser.index[0]]\n",
    "    dup_prodreg_gdf = prodreg_gdf[prodreg_gdf['PRODREG'].isin(dup_ser)]\n",
    "    return dup_prodreg_gdf.loc[dup_prodreg_gdf.intersection(poly_geom).apply(lambda p: p.area).idxmax()]['PRODREG']"
   ]
  },
  {
   "cell_type": "code",
   "execution_count": 8,
   "metadata": {
    "autoscroll": false,
    "collapsed": false,
    "ein.hycell": false,
    "ein.tags": "worksheet-0",
    "slideshow": {
     "slide_type": "-"
    }
   },
   "outputs": [
    {
     "name": "stdout",
     "output_type": "stream",
     "text": [
      "I am densified (external_values, 5 elements)\n",
      "I am densified (external_values, 5 elements)\n",
      "I am densified (external_values, 5 elements)\n"
     ]
    },
    {
     "name": "stdout",
     "output_type": "stream",
     "text": [
      "I am densified (external_values, 5 elements)\n"
     ]
    },
    {
     "name": "stdout",
     "output_type": "stream",
     "text": [
      "I am densified (external_values, 5 elements)\n",
      "I am densified (external_values, 5 elements)\n"
     ]
    },
    {
     "name": "stdout",
     "output_type": "stream",
     "text": [
      "I am densified (external_values, 5 elements)\n"
     ]
    },
    {
     "name": "stdout",
     "output_type": "stream",
     "text": [
      "I am densified (external_values, 5 elements)\n",
      "I am densified (external_values, 5 elements)\n"
     ]
    },
    {
     "name": "stdout",
     "output_type": "stream",
     "text": [
      "I am densified (external_values, 5 elements)\n"
     ]
    },
    {
     "name": "stdout",
     "output_type": "stream",
     "text": [
      "I am densified (external_values, 5 elements)\n",
      "I am densified (external_values, 5 elements)\n"
     ]
    },
    {
     "name": "stdout",
     "output_type": "stream",
     "text": [
      "I am densified (external_values, 6 elements)\n",
      "I am densified (external_values, 4 elements)\n"
     ]
    }
   ],
   "source": [
    "dup_fillna_prodreg_ser = dup_fillna_prodreg_ser.groupby(by=dup_fillna_prodreg_ser.index).apply(get_idmax_buffer_intersection, (nan_prodreg_buffer_gdf))"
   ]
  },
  {
   "cell_type": "code",
   "execution_count": 9,
   "metadata": {
    "autoscroll": false,
    "collapsed": false,
    "ein.hycell": false,
    "ein.tags": "worksheet-0",
    "slideshow": {
     "slide_type": "-"
    }
   },
   "outputs": [],
   "source": [
    "fillna_prodreg_ser = pd.concat([dup_fillna_prodreg_ser, non_dup_fillna_prodreg_ser])"
   ]
  },
  {
   "cell_type": "code",
   "execution_count": 10,
   "metadata": {
    "autoscroll": false,
    "collapsed": false,
    "ein.hycell": false,
    "ein.tags": "worksheet-0",
    "slideshow": {
     "slide_type": "-"
    }
   },
   "outputs": [
    {
     "data": {
      "text/plain": [
       "True"
      ]
     },
     "execution_count": 10,
     "metadata": {},
     "output_type": "execute_result"
    }
   ],
   "source": [
    "# Check that the number of nan in prodreg_ser is the same as the number of filled nans from the buffer after solving the duplicates\n",
    "len(prodreg_ser[prodreg_ser.isna()]) == len(fillna_prodreg_ser)"
   ]
  },
  {
   "cell_type": "code",
   "execution_count": 11,
   "metadata": {
    "autoscroll": false,
    "collapsed": false,
    "ein.hycell": false,
    "ein.tags": "worksheet-0",
    "slideshow": {
     "slide_type": "-"
    }
   },
   "outputs": [],
   "source": [
    "prodreg_ser = prodreg_ser.fillna(fillna_prodreg_ser)"
   ]
  },
  {
   "cell_type": "code",
   "execution_count": 12,
   "metadata": {
    "autoscroll": false,
    "collapsed": false,
    "ein.hycell": false,
    "ein.tags": "worksheet-0",
    "slideshow": {
     "slide_type": "-"
    }
   },
   "outputs": [],
   "source": [
    "prodreg_ser.to_csv('data/vaud_prodreg.csv', header=True)"
   ]
  }
 ],
 "metadata": {
  "kernelspec": {
   "display_name": "Python (carbonseq_vaud)",
   "name": "carbonseq_vaud"
  },
  "name": "prodreg.ipynb"
 },
 "nbformat": 4,
 "nbformat_minor": 2
}
