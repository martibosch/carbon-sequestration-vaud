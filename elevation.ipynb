{
 "cells": [
  {
   "cell_type": "code",
   "execution_count": 1,
   "metadata": {
    "autoscroll": false,
    "collapsed": false,
    "ein.hycell": false,
    "ein.tags": "worksheet-0",
    "slideshow": {
     "slide_type": "-"
    }
   },
   "outputs": [],
   "source": [
    "import numpy as np\n",
    "import pandas as pd\n",
    "import rasterio\n",
    "from rasterstats import zonal_stats\n",
    "from shapely.geometry import Point\n",
    "\n",
    "import swisslandstats as sls"
   ]
  },
  {
   "cell_type": "code",
   "execution_count": 2,
   "metadata": {
    "autoscroll": false,
    "collapsed": false,
    "ein.hycell": false,
    "ein.tags": "worksheet-0",
    "slideshow": {
     "slide_type": "-"
    }
   },
   "outputs": [],
   "source": [
    "vaud_ldf = sls.read_csv('data/vaud_lulc.csv')"
   ]
  },
  {
   "cell_type": "code",
   "execution_count": 3,
   "metadata": {
    "autoscroll": false,
    "collapsed": false,
    "ein.hycell": false,
    "ein.tags": "worksheet-0",
    "slideshow": {
     "slide_type": "-"
    }
   },
   "outputs": [],
   "source": [
    "with rasterio.open('data/swissALTI_reduced_res_lv95_3.tif') as src:\n",
    "    elevation_affine = src.transform\n",
    "    elevation_arr = src.read(1)\n",
    "    elevation_crs = src.crs\n",
    "    elevation_nodata = src.nodata"
   ]
  },
  {
   "cell_type": "code",
   "execution_count": 4,
   "metadata": {
    "autoscroll": false,
    "collapsed": false,
    "ein.hycell": false,
    "ein.tags": "worksheet-0",
    "slideshow": {
     "slide_type": "-"
    }
   },
   "outputs": [
    {
     "name": "stdout",
     "output_type": "stream",
     "text": [
      "I am densified (external_values, 321077 elements)\n"
     ]
    },
    {
     "name": "stdout",
     "output_type": "stream",
     "text": [
      "I am densified (external_values, 321077 elements)\n"
     ]
    }
   ],
   "source": [
    "# Rectangular buffer in the DEM crs\n",
    "\n",
    "vaud_gser = vaud_ldf.get_geoseries()\n",
    "\n",
    "# for an square buffer, distance is half of the dataframe's resolution\n",
    "buff_dist = vaud_ldf.res[0] / 2\n",
    "buffer_gser = vaud_gser.to_crs(elevation_crs).apply(lambda x: x.buffer(buff_dist, cap_style=3))"
   ]
  },
  {
   "cell_type": "code",
   "execution_count": 12,
   "metadata": {
    "autoscroll": false,
    "collapsed": false,
    "ein.hycell": false,
    "ein.tags": "worksheet-0",
    "slideshow": {
     "slide_type": "-"
    }
   },
   "outputs": [],
   "source": [
    "elevation_stats = zonal_stats(\n",
    "    buffer_gser, elevation_arr, affine=elevation_affine, nodata=elevation_nodata)"
   ]
  },
  {
   "cell_type": "code",
   "execution_count": 19,
   "metadata": {
    "autoscroll": false,
    "collapsed": false,
    "ein.hycell": false,
    "ein.tags": "worksheet-0",
    "slideshow": {
     "slide_type": "-"
    }
   },
   "outputs": [],
   "source": [
    "elevation_ser = pd.Series(map(lambda d: d['mean'], elevation_stats), name='elevation', index=vaud_ldf.index)"
   ]
  },
  {
   "cell_type": "markdown",
   "metadata": {
    "ein.tags": "worksheet-0",
    "slideshow": {
     "slide_type": "-"
    }
   },
   "source": [
    "## Fill wrong values with mean neighbor elevation"
   ]
  },
  {
   "cell_type": "code",
   "execution_count": 20,
   "metadata": {
    "autoscroll": false,
    "collapsed": false,
    "ein.hycell": false,
    "ein.tags": "worksheet-0",
    "slideshow": {
     "slide_type": "-"
    }
   },
   "outputs": [],
   "source": [
    "# Convert negative (wrong values) to nan\n",
    "\n",
    "elevation_ser[elevation_ser < 0] = np.nan"
   ]
  },
  {
   "cell_type": "code",
   "execution_count": 22,
   "metadata": {
    "autoscroll": false,
    "collapsed": false,
    "ein.hycell": false,
    "ein.tags": "worksheet-0",
    "slideshow": {
     "slide_type": "-"
    }
   },
   "outputs": [],
   "source": [
    "nan_point_gser = vaud_gser[elevation_ser.isna()]"
   ]
  },
  {
   "cell_type": "code",
   "execution_count": 23,
   "metadata": {
    "autoscroll": false,
    "collapsed": false,
    "ein.hycell": false,
    "ein.tags": "worksheet-0",
    "slideshow": {
     "slide_type": "-"
    }
   },
   "outputs": [],
   "source": [
    "def get_mean_neighbor_elevation(point, elevation_ser, spatial_index):\n",
    "    return elevation_ser[list(spatial_index.nearest([point.x, point.y], 4, objects='raw'))].dropna().mean()"
   ]
  },
  {
   "cell_type": "code",
   "execution_count": 25,
   "metadata": {
    "autoscroll": false,
    "collapsed": false,
    "ein.hycell": false,
    "ein.tags": "worksheet-0",
    "slideshow": {
     "slide_type": "-"
    }
   },
   "outputs": [
    {
     "name": "stdout",
     "output_type": "stream",
     "text": [
      "I am densified (external_values, 0 elements)\n"
     ]
    }
   ],
   "source": [
    "fillna_elevation_ser = nan_point_gser.apply(get_mean_neighbor_elevation, args=(elevation_ser, vaud_gser.sindex))\n",
    "elevation_ser = elevation_ser.fillna(fillna_elevation_ser)"
   ]
  },
  {
   "cell_type": "code",
   "execution_count": null,
   "metadata": {
    "autoscroll": false,
    "collapsed": false,
    "ein.hycell": false,
    "ein.tags": "worksheet-0",
    "slideshow": {
     "slide_type": "-"
    }
   },
   "outputs": [],
   "source": [
    "elevation_ser.to_csv('data/vaud_elevation.csv', header=True)"
   ]
  }
 ],
 "metadata": {
  "kernelspec": {
   "display_name": "Python (carbonseq_vaud)",
   "name": "carbonseq_vaud"
  },
  "name": "elevation.ipynb"
 },
 "nbformat": 4,
 "nbformat_minor": 2
}
